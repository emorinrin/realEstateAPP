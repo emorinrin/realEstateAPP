{
 "cells": [
  {
   "cell_type": "code",
   "execution_count": 4,
   "metadata": {},
   "outputs": [
    {
     "name": "stdout",
     "output_type": "stream",
     "text": [
      "Error inspecting database: unable to open database file\n"
     ]
    }
   ],
   "source": [
    "import sqlite3\n",
    "import pandas as pd\n",
    "\n",
    "DB_PATH = 'C:\\Users\\yuya.hosokawa\\Documents\\STEP3\\STEP3-1_bady\\DB\\room.db'  # アップロードされたデータベースファイルのパス\n",
    "\n",
    "def inspect_db(db_path):\n",
    "    try:\n",
    "        conn = sqlite3.connect(db_path)\n",
    "        query = \"SELECT name FROM sqlite_master WHERE type='table';\"\n",
    "        tables = pd.read_sql(query, conn)\n",
    "        table_names = tables['name'].tolist()\n",
    "        print(\"Tables in database:\", table_names)\n",
    "\n",
    "        for table in table_names:\n",
    "            print(f\"Inspecting table: {table}\")\n",
    "            query = f\"PRAGMA table_info({table});\"\n",
    "            columns = pd.read_sql(query, conn)\n",
    "            print(columns)\n",
    "\n",
    "            query = f\"SELECT * FROM {table} LIMIT 5;\"\n",
    "            data = pd.read_sql(query, conn)\n",
    "            print(data)\n",
    "\n",
    "        conn.close()\n",
    "    except Exception as e:\n",
    "        print(f\"Error inspecting database: {e}\")\n",
    "\n",
    "inspect_db(DB_PATH)\n"
   ]
  },
  {
   "cell_type": "code",
   "execution_count": null,
   "metadata": {},
   "outputs": [],
   "source": []
  }
 ],
 "metadata": {
  "kernelspec": {
   "display_name": "python-env",
   "language": "python",
   "name": "python3"
  },
  "language_info": {
   "codemirror_mode": {
    "name": "ipython",
    "version": 3
   },
   "file_extension": ".py",
   "mimetype": "text/x-python",
   "name": "python",
   "nbconvert_exporter": "python",
   "pygments_lexer": "ipython3",
   "version": "3.11.8"
  }
 },
 "nbformat": 4,
 "nbformat_minor": 2
}
